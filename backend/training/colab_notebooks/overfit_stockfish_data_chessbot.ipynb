{
  "nbformat": 4,
  "nbformat_minor": 0,
  "metadata": {
    "colab": {
      "provenance": []
    },
    "kernelspec": {
      "name": "python3",
      "display_name": "Python 3"
    },
    "language_info": {
      "name": "python"
    }
  },
  "cells": [
    {
      "cell_type": "markdown",
      "source": [
        "# Overfit Chessbot\n",
        "This notebook trains a DNN (deep neural network) how to play chess using a dataset of games where Stockfish plays against itself. This dataset is intentionally overfit. The goal is to learn and experiment - not to create the greatest chess bot in the world.\n",
        "\n",
        "[Link to Google Colab notebook](https://colab.research.google.com/drive/1XOMBUjh-J_NMXzskGc7nx0SQ2DH73p9B?usp=sharing)"
      ],
      "metadata": {
        "id": "nKzdwW5HBtqF"
      }
    },
    {
      "cell_type": "markdown",
      "source": [
        "# Setup"
      ],
      "metadata": {
        "id": "DO_DDKsFDd3q"
      }
    },
    {
      "cell_type": "markdown",
      "source": [
        "Import necessary libraries"
      ],
      "metadata": {
        "id": "CdGAL8a7_p5y"
      }
    },
    {
      "cell_type": "code",
      "execution_count": null,
      "metadata": {
        "id": "4dhEdd9M_Wg-"
      },
      "outputs": [],
      "source": [
        "import tensorflow as tf\n",
        "import keras\n",
        "import numpy as np\n",
        "import pandas as pd\n",
        "import matplotlib.pyplot as plt"
      ]
    },
    {
      "cell_type": "markdown",
      "source": [
        "Load training data"
      ],
      "metadata": {
        "id": "t4JdO6e4AUKQ"
      }
    },
    {
      "cell_type": "code",
      "source": [],
      "metadata": {
        "id": "5-y82ZgM_pMx"
      },
      "execution_count": null,
      "outputs": []
    }
  ]
}